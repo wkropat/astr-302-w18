{
 "cells": [
  {
   "cell_type": "markdown",
   "metadata": {
    "slideshow": {
     "slide_type": "slide"
    }
   },
   "source": [
    "# git & GitHub: Introduction for Scientists"
   ]
  },
  {
   "cell_type": "markdown",
   "metadata": {
    "slideshow": {
     "slide_type": "slide"
    }
   },
   "source": [
    "# git, github, etc... Why do we care?"
   ]
  },
  {
   "cell_type": "markdown",
   "metadata": {
    "slideshow": {
     "slide_type": "slide"
    }
   },
   "source": [
    "**Replication** and **reproducibility** are two of the cornerstones in the scientific method. With respect to data analysis (and scientific computing in general!), these concepts have the following practical implications:\n",
    "\n",
    "* **Replication**: An author of a scientific paper that involves some data analysis should be able to rerun the analysis code and replicate the results upon request. Other scientists should be able to perform the same analysis and obtain the same results, given the information about the methods used in a publication.\n",
    "\n",
    "* **Reproducibility**: The results obtained by analyzing the data should be reproducible with an independent implementation of the method, or using a different method altogether.\n",
    "\n",
    "\n",
    "In summary: A sound scientific result should be reproducible, and a sound scientific study should be replicable."
   ]
  },
  {
   "cell_type": "markdown",
   "metadata": {
    "slideshow": {
     "slide_type": "slide"
    }
   },
   "source": [
    "To achieve these goals, we need to:\n",
    "\n",
    "* Keep and take note of *exactly* which source code and version that was used to produce data and figures in published papers.\n",
    "\n",
    "* Record information of which version of external software that was used. Keep access to the environment that was used.\n",
    "\n",
    "* Make sure that old codes and notes are backed up and kept for future reference.\n",
    "\n",
    "* Ideally, codes should be published online, to make it easier for other scientists interested in the codes to access it."
   ]
  },
  {
   "cell_type": "markdown",
   "metadata": {
    "slideshow": {
     "slide_type": "slide"
    }
   },
   "source": [
    "# What is git?\n",
    "\n",
    "* A tool that efficiently __saves snapshots__ of a set of files (what their contents was at some point in time).\n",
    "* A tool that __tracks relationships__ between those snapshots (which snapshot preceeded which, etc.).\n",
    "* A tool that can efficiently __merge__ different snapshots, even if they have conflicting changes.\n",
    "* A tool that makes it possible to __share__ these snapshots with others, enabling __collaboration__ (and adding a degree of reproducibility)."
   ]
  },
  {
   "cell_type": "markdown",
   "metadata": {
    "slideshow": {
     "slide_type": "slide"
    }
   },
   "source": [
    "# What is GitHub?\n",
    "\n",
    "* It’s a company that will __host copies of your git repositories__.\n",
    "* It’s a [website](github.com) that provides a nice way to __browse, view, and sometimes edit__ the contents of those repositories.\n",
    "* It’s a company that will let you __share__ them with others, and make them __discoverable__.\n",
    "* It’s a website that makes __collaboration__ on software (incl. research, analysis, etc.) projects __easy__. E.g.:\n",
    "  * Report and discuss issues.\n",
    "  * Review, discuss, accept proposed changes.\n",
    "\n",
    "\n",
    "Note: Git and GitHub are two different things -- one is a tool, another one is a service built around it (and there are alternatives). You can use git without GitHub; it's just that GitHub makes some things easier."
   ]
  },
  {
   "cell_type": "markdown",
   "metadata": {
    "slideshow": {
     "slide_type": "slide"
    }
   },
   "source": [
    "# git+github: introduction by example"
   ]
  },
  {
   "cell_type": "markdown",
   "metadata": {
    "slideshow": {
     "slide_type": "slide"
    }
   },
   "source": [
    "# GitHub Student Developer Pack"
   ]
  },
  {
   "cell_type": "markdown",
   "metadata": {},
   "source": [
    "<center>[https://education.github.com/pack](https://education.github.com/pack)</center>\n",
    "<img src=\"images/gh-pack.jpg\" width=\"600\">"
   ]
  },
  {
   "cell_type": "markdown",
   "metadata": {
    "slideshow": {
     "slide_type": "slide"
    }
   },
   "source": [
    "#### Note\n",
    "\t\n",
    "`git` repositories are also excellent for version controlling manuscripts, figures, thesis files, data files, lab logs, etc. Basically for any digital content that must be preserved and is frequently updated.\n",
    "\n",
    "They are also excellent collaboration tools!"
   ]
  },
  {
   "cell_type": "markdown",
   "metadata": {
    "slideshow": {
     "slide_type": "slide"
    }
   },
   "source": [
    "## Homework #2: Practicing git, and collaborating using GitHub\n",
    "\n",
    "At:\n",
    "\n",
    "        https://github.com/uw-astr-302-w18/astr-302-scicalc\n",
    "\n",
    "you will find a project attempting to collaboratively build a toy scientific calculator. The calculator has only a few operations implemented, but also a number of proposed enhancements recorded as GitHub issues. Your task is to:\n",
    "\n",
    "* By the end of this class:\n",
    "  - Claim an issue you will work on by assigning yourself to it. It cannot not be the issue you opened!\n",
    "\n",
    "\n",
    "* Try By next Thursday (end-of-day):\n",
    "  - Implement the proposed enhancement in your own fork, and initiate a Pull Request to merge it back.\n",
    "  - Assign one of your colleagues as a reviewer (ask on #general who is available, or ask in class). You should also get a review assignment from one of your colleagues.\n",
    "\n",
    "\n",
    "* By next Sunday (end-of-day):\n",
    "  - review the pull request for correctness. At minimum:\n",
    "    - clone the PR branch and test that it works as promised.\n",
    "    - make sure the documentation (the docstring) is there.\n",
    "  - if there are issues, work with the submitter to have them fixed.\n",
    "    - (also fix any issues in your own code that someone else will be reviewing)\n",
    "  - merge the PR into master, fixing any merge conflicts as necessary.\n",
    "\n",
    "***Feel free to use #general and collaborate in case you get stuck!***"
   ]
  },
  {
   "cell_type": "markdown",
   "metadata": {
    "slideshow": {
     "slide_type": "slide"
    }
   },
   "source": [
    "### Finding out more"
   ]
  },
  {
   "cell_type": "markdown",
   "metadata": {},
   "source": [
    " * [Google](http://google.com)\n",
    " * [YouTube](http://youtube.com)\n",
    "   * [Scott Chacon on git](https://www.youtube.com/watch?v=ZDR433b0HJY)\n",
    "   \n",
    "   \n",
    " * [gitref.org](http://gitref.org/index.html)\n",
    " * [LSST's page on git](https://confluence.lsstcorp.org/display/LDMDG/Using+Git+for+LSST+Development)\n",
    "\n",
    "\n",
    " * [git website](http://git-scm.com)\n",
    " * [github.com](http://github.com)\n",
    "\n",
    "\n",
    " * [Reproducible Research in Computational Science](http://dx.doi.org/10.1126/science.1213847), Roger D. Peng, Science 334, 1226 (2011).\n",
    " * [Shining Light into Black Boxes](http://dx.doi.org/10.1126/science.1218263), A. Morin et al., Science 336, 159-160 (2012).\n",
    " * [The case for open computer programs](http://dx.doi.org/doi:10.1038/nature10836), D.C. Ince, Nature 482, 485 (2012)."
   ]
  }
 ],
 "metadata": {
  "celltoolbar": "Slideshow",
  "kernelspec": {
   "display_name": "Python 3",
   "language": "python",
   "name": "python3"
  },
  "language_info": {
   "codemirror_mode": {
    "name": "ipython",
    "version": 3
   },
   "file_extension": ".py",
   "mimetype": "text/x-python",
   "name": "python",
   "nbconvert_exporter": "python",
   "pygments_lexer": "ipython3",
   "version": "3.6.3"
  }
 },
 "nbformat": 4,
 "nbformat_minor": 1
}
